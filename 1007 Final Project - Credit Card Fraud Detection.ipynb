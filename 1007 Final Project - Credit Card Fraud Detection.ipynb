{
 "cells": [
  {
   "cell_type": "code",
   "execution_count": 1,
   "metadata": {},
   "outputs": [],
   "source": [
    "import warnings\n",
    "warnings.filterwarnings(\"ignore\")"
   ]
  },
  {
   "cell_type": "code",
   "execution_count": 2,
   "metadata": {},
   "outputs": [],
   "source": [
    "import pandas as pd\n",
    "import numpy as np\n",
    "import seaborn as sns\n",
    "import matplotlib.pyplot as plt\n",
    "from collections import Counter\n",
    "from tqdm import tqdm_notebook\n",
    "import seaborn as sns\n",
    "import operator\n",
    "import random\n",
    "import re\n",
    "from itertools import *"
   ]
  },
  {
   "cell_type": "code",
   "execution_count": 3,
   "metadata": {},
   "outputs": [],
   "source": [
    "from sklearn.model_selection import train_test_split\n",
    "from sklearn.linear_model import LogisticRegression\n",
    "from sklearn.metrics import normalized_mutual_info_score\n",
    "from sklearn.ensemble import RandomForestClassifier\n",
    "from xgboost import XGBClassifier\n",
    "from sklearn.metrics import roc_auc_score, f1_score, recall_score, precision_score, confusion_matrix,accuracy_score\n",
    "from sklearn.datasets import make_classification\n",
    "from imblearn.combine import SMOTETomek\n",
    "from sklearn.model_selection import ParameterGrid"
   ]
  },
  {
   "cell_type": "code",
   "execution_count": 4,
   "metadata": {},
   "outputs": [],
   "source": [
    "dat = pd.read_csv(\"creditcard.csv\")"
   ]
  },
  {
   "cell_type": "code",
   "execution_count": 5,
   "metadata": {},
   "outputs": [],
   "source": [
    "dat = dat[:100000]"
   ]
  },
  {
   "cell_type": "markdown",
   "metadata": {},
   "source": [
    "## 1. Data Visualizations"
   ]
  },
  {
   "cell_type": "code",
   "execution_count": 6,
   "metadata": {},
   "outputs": [
    {
     "data": {
      "text/plain": [
       "<matplotlib.axes._subplots.AxesSubplot at 0x11ad2f128>"
      ]
     },
     "execution_count": 6,
     "metadata": {},
     "output_type": "execute_result"
    },
    {
     "data": {
      "image/png": "[encoded data removed]",
      "text/plain": [
       "<Figure size 360x360 with 1 Axes>"
      ]
     },
     "metadata": {},
     "output_type": "display_data"
    }
   ],
   "source": [
    "%matplotlib inline \n",
    "data = dat.copy()\n",
    "data[[\"Time\", \"Class\"]].groupby(\"Class\").count().rename(columns = {\"Time\": \"Count\"}).plot.pie(y=\"Count\", figsize=(5, 5))"
   ]
  },
  {
   "cell_type": "markdown",
   "metadata": {},
   "source": [
    "## 2. Data Cleaning"
   ]
  },
  {
   "cell_type": "code",
   "execution_count": 7,
   "metadata": {},
   "outputs": [],
   "source": [
    "def data_clean(data):\n",
    "    Or = data.shape[0]\n",
    "    \n",
    "    #drop missing values\n",
    "    data = data[data.notnull()]\n",
    "    print(\"Totally clean %s missing values\" % (Or - data.shape[0]))\n",
    "    \n",
    "    #drop duplicate records\n",
    "    data = data.drop_duplicates()\n",
    "    print(\"Totally clean %s dupilcate records\" % (Or - data.shape[0]))\n",
    "    \n",
    "    print(\"Cleaning Ends!\")\n",
    "    return data#,fra_ct,non_fra_ct,fra_idx,non_fra_idx"
   ]
  },
  {
   "cell_type": "code",
   "execution_count": 8,
   "metadata": {},
   "outputs": [],
   "source": [
    "def frad_info(data):\n",
    "    fra_ct = sum(data['Class'] == 1)\n",
    "    non_fra_ct = data.shape[0] - fra_ct\n",
    "    fra_idx = data[data['Class'] == 1].index\n",
    "    non_fra_idx = data[data['Class'] == 0].index\n",
    "    \n",
    "    return fra_ct,non_fra_ct,fra_idx,non_fra_idx"
   ]
  },
  {
   "cell_type": "code",
   "execution_count": 9,
   "metadata": {},
   "outputs": [
    {
     "name": "stdout",
     "output_type": "stream",
     "text": [
      "Totally clean 0 missing values\n",
      "Totally clean 381 dupilcate records\n",
      "Cleaning Ends!\n"
     ]
    }
   ],
   "source": [
    "df_org = data_clean(dat)"
   ]
  },
  {
   "cell_type": "code",
   "execution_count": 10,
   "metadata": {},
   "outputs": [],
   "source": [
    "fra_ct,non_fra_ct,fra_idx,non_fra_idx = frad_info(df_org)"
   ]
  },
  {
   "cell_type": "code",
   "execution_count": 11,
   "metadata": {},
   "outputs": [
    {
     "name": "stdout",
     "output_type": "stream",
     "text": [
      "The number of fraud is 223\n",
      "The number of non-fraud is 99396\n"
     ]
    }
   ],
   "source": [
    "print(\"The number of fraud is %s\" % (fra_ct))\n",
    "print(\"The number of non-fraud is %s\" % (non_fra_ct))"
   ]
  },
  {
   "cell_type": "markdown",
   "metadata": {},
   "source": [
    "## 3. Preparations for Modeling"
   ]
  },
  {
   "cell_type": "markdown",
   "metadata": {},
   "source": [
    "### Baseline Functions"
   ]
  },
  {
   "cell_type": "code",
   "execution_count": 12,
   "metadata": {},
   "outputs": [],
   "source": [
    "# split the data into training, validation, and testing set\n",
    "def tra_test_val_split(data, label):\n",
    "    '''\n",
    "    function that split the data set into 'training', 'validation', and 'testing' data\n",
    "    \n",
    "    inputs:\n",
    "        - data: the entire data set you want to split\n",
    "        - label: the name of the target variable\n",
    "    '''\n",
    "    y = data[label]\n",
    "    x = data.drop(label,axis = 1)\n",
    "    x_train,x_test,y_train, y_test = train_test_split(x,y,test_size = 0.2,random_state = 42)\n",
    "    x_train,x_val,y_train, y_val = train_test_split(x_train,y_train,test_size = 0.2, random_state = 42)    \n",
    "    return x_train,y_train,x_val,y_val,x_test, y_test"
   ]
  },
  {
   "cell_type": "code",
   "execution_count": 13,
   "metadata": {},
   "outputs": [],
   "source": [
    "def FitModel(clf, x_tra,y_tra,x_val,y_val): # return the f score on validation set\n",
    "    clf.fit(x_tra,y_tra)\n",
    "\n",
    "    train_pred = clf.predict(x_tra)\n",
    "    val_pred = clf.predict(x_val)\n",
    "\n",
    "    AUC_train = roc_auc_score(y_tra, train_pred)\n",
    "    AUC_val = roc_auc_score(y_val, val_pred)\n",
    "\n",
    "    f = f1_score(y_val, val_pred)\n",
    "    #print(AUC_train,AUC_val,f)\n",
    "    return f"
   ]
  },
  {
   "cell_type": "code",
   "execution_count": 14,
   "metadata": {},
   "outputs": [],
   "source": [
    "# logistics regression with non-resampled dataset \n",
    "def LR_result(data,label):\n",
    "    x_train,y_train,x_val,y_val,x_test, y_test = tra_test_val_split(data, label)\n",
    "    LR_res = {}\n",
    "    paras_lr = [10 ** i for i in range(-2,2)]\n",
    "    for c in paras_lr:\n",
    "        LR = LogisticRegression(random_state = 20, C = c)\n",
    "        LR_res[c] = FitModel(LR, x_train, y_train, x_val, y_val)\n",
    "    position = list(LR_res.values()).index(min(list(LR_res.values())))\n",
    "    best_c = list(LR_res.keys())[position]\n",
    "    \n",
    "    # fit training + validation data\n",
    "    LR_best = LogisticRegression(random_state = 20, C = best_c)\n",
    "    X = pd.concat([x_train, x_val], axis = 0)#, sort = False)\n",
    "    Y = pd.concat([y_train, y_val], axis = 0)#, sort = False)\n",
    "    test_pred = LR_best.fit(X,Y).predict(x_test)\n",
    "    print(\"Accurancy on testing:\"+str(accuracy_score(y_test, test_pred)))\n",
    "    print(\"Recall on testing:\"+str(recall_score(y_test, test_pred)))\n",
    "    \n",
    "    # return f1_score of testing data\n",
    "    return best_c, f1_score(y_test, test_pred)"
   ]
  },
  {
   "cell_type": "code",
   "execution_count": 15,
   "metadata": {},
   "outputs": [
    {
     "name": "stdout",
     "output_type": "stream",
     "text": [
      "Accurancy on testing:0.9985946597068862\n",
      "Recall on testing:0.5319148936170213\n"
     ]
    },
    {
     "data": {
      "text/plain": [
       "(1, 0.641025641025641)"
      ]
     },
     "execution_count": 15,
     "metadata": {},
     "output_type": "execute_result"
    }
   ],
   "source": [
    "LR_result(df_org,label = \"Class\")"
   ]
  },
  {
   "cell_type": "markdown",
   "metadata": {},
   "source": [
    "### Re-sampling Functions"
   ]
  },
  {
   "cell_type": "markdown",
   "metadata": {},
   "source": [
    "#### Under_sampling"
   ]
  },
  {
   "cell_type": "code",
   "execution_count": 16,
   "metadata": {},
   "outputs": [],
   "source": [
    "# under-sample \n",
    "def under_sample(resample_rate,x,y,label):\n",
    "    '''\n",
    "    function that resamples data and returns the data after resampling\n",
    "    inputs:\n",
    "        - resample_rate: rate that will be multiplied to the number of data in the majority class\n",
    "        - label: the name of the target variable\n",
    "    '''\n",
    "    data = pd.concat([x, y], axis = 1)\n",
    "    fra_ct,non_fra_ct,fra_idx,non_fra_idx = frad_info(data)\n",
    "    rnd_idx = np.random.choice(non_fra_idx,int(resample_rate * non_fra_ct), replace=False)\n",
    "    under_sample_indices = np.concatenate([fra_idx,rnd_idx])\n",
    "    df_under_sample = data.loc[under_sample_indices]\n",
    "    y_under = df_under_sample[label]\n",
    "    x_under = df_under_sample.drop(label,axis = 1)\n",
    "    return x_under, y_under"
   ]
  },
  {
   "cell_type": "markdown",
   "metadata": {},
   "source": [
    "#### Over_sampling"
   ]
  },
  {
   "cell_type": "code",
   "execution_count": 17,
   "metadata": {},
   "outputs": [],
   "source": [
    "# over-sample\n",
    "def over_sample(resample_rate,x,y,label):\n",
    "    data = pd.concat([x, y], axis = 1)\n",
    "    fra_ct,non_fra_ct,fra_idx,non_fra_idx = frad_info(data)\n",
    "    rnd_idx = np.random.choice(fra_idx,int(resample_rate * fra_ct), replace=True)\n",
    "    over_sample_indices = np.concatenate([non_fra_idx,rnd_idx])\n",
    "    df_over_sample = data.loc[over_sample_indices]\n",
    "    y_over = df_over_sample[label]\n",
    "    x_over = df_over_sample.drop(label,axis = 1)\n",
    "    return x_over, y_over"
   ]
  },
  {
   "cell_type": "markdown",
   "metadata": {},
   "source": [
    "#### Hybrid_sampling"
   ]
  },
  {
   "cell_type": "code",
   "execution_count": 18,
   "metadata": {},
   "outputs": [],
   "source": [
    "# hybrid sample \n",
    "def hybrid_sample(resample_rate, x, y, label):\n",
    "    '''\n",
    "    function that returns the data after resampling\n",
    "    input:\n",
    "        - resample_rate: the ratio of minority data/ majority data after resampling\n",
    "        - label: target variable\n",
    "    '''\n",
    "    smt = SMOTETomek(ratio = resample_rate)\n",
    "    x_res, y_res = smt.fit_sample(x, y)\n",
    "    x_hybrid = pd.DataFrame(x_res, columns = x.columns)\n",
    "    y_hybrid = pd.DataFrame(y_res, columns = [label])\n",
    "    return x_hybrid, y_hybrid"
   ]
  },
  {
   "cell_type": "markdown",
   "metadata": {},
   "source": [
    "#### split the data into training,and testing set"
   ]
  },
  {
   "cell_type": "code",
   "execution_count": 19,
   "metadata": {},
   "outputs": [],
   "source": [
    "# split the data into training,and testing set\n",
    "def tra_test_split(data, label):\n",
    "    '''\n",
    "    function that split the data set into 'training' and 'testing' data\n",
    "    \n",
    "    inputs:\n",
    "        - data: the entire data set you want to split\n",
    "        - label: the name of the target variable\n",
    "    '''\n",
    "    y = data[label]\n",
    "    x = data.drop(label,axis = 1)\n",
    "    x_train,x_test,y_train, y_test = train_test_split(x,y,test_size = 0.2,random_state = 42)   \n",
    "    return x_train,y_train,x_test, y_test"
   ]
  },
  {
   "cell_type": "code",
   "execution_count": 20,
   "metadata": {},
   "outputs": [],
   "source": [
    "def partition (list_in, n):\n",
    "    '''\n",
    "    function used do partition for data (used for cross-validation)\n",
    "    '''\n",
    "    random.shuffle(list_in)\n",
    "    return [list_in[i::n] for i in range(n)]"
   ]
  },
  {
   "cell_type": "code",
   "execution_count": 21,
   "metadata": {},
   "outputs": [],
   "source": [
    "def train_models(x_train,y_train, models,split):\n",
    "    '''\n",
    "    function used to fit models\n",
    "    '''\n",
    "    best_estimator = None # initialize best_param as an empty dictionary\n",
    "    best_score = 0\n",
    "    best_model = None\n",
    "    best_models={}\n",
    "    \n",
    "    ## 3) Train models in the models dictionary\n",
    "    for classifier in models:\n",
    "        classifier_name = \" \".join(re.findall('[A-Z][a-z]*', str(classifier).split(\".\")[-1].split(\"'\")[0]))\n",
    "        \n",
    "\n",
    "\n",
    "#         print(\"Model Report for \" + str(classifier) + \" :\")\n",
    "        \n",
    "        for params in ParameterGrid(models[classifier]):\n",
    "            clf= classifier(**params)\n",
    "#             print(params)\n",
    "            data_dic = {}\n",
    "            data_split = partition(list(x_train.index),split)\n",
    "\n",
    "            \n",
    "            score_cv = []\n",
    "            for i in range(split):\n",
    "                cv_x_train = x_train.loc[list(set(x_train.index) - set(data_split[i]))]\n",
    "                cv_y_train = y_train.loc[list(set(x_train.index) - set(data_split[i]))]\n",
    "                cv_x_val = x_train.loc[data_split[i]]\n",
    "                cv_y_val = y_train.loc[data_split[i]]\n",
    "                clf.fit(cv_x_train,cv_y_train)\n",
    "                val_pred = clf.predict(cv_x_val)\n",
    "                f = f1_score(cv_y_val, val_pred)\n",
    "                score_cv.append(f)\n",
    "            final_score = np.mean(score_cv)\n",
    "#             print(final_score)\n",
    "            \n",
    "            \n",
    "\n",
    "            # choose the best parameter set for that classifier in best_models dictionary\n",
    "            if final_score > best_score:\n",
    "                best_score = final_score\n",
    "                best_estimator = params\n",
    "                best_model = classifier_name\n",
    "            \n",
    "    best_models[best_model] = [best_estimator, best_score]\n",
    "\n",
    "    \n",
    "    # return the best_models dictionary\n",
    "    return best_models"
   ]
  },
  {
   "cell_type": "code",
   "execution_count": 22,
   "metadata": {},
   "outputs": [],
   "source": [
    "def try_models(func_name, models,split,rate_ls):\n",
    "    '''\n",
    "    a function that resample data set and train all potential models\n",
    "    inputs:\n",
    "        - sampling_method: a string, a sampling method chosen, e.g. \"under_sampling\"\n",
    "        - models: a dictionary with model classifiers as keys, potential parameters as values\n",
    "        - split: int, similar to KFolds for validation (for the purpose of cross-validation)\n",
    "    '''\n",
    "    \n",
    "    ## 1) split the data for training, validation and testing\n",
    "    x_train,y_train,x_test, y_test = tra_test_split(df_org,\"Class\")\n",
    "    \n",
    "    ## 2) resample data based on the sampling method chosen\n",
    "    \n",
    "    # initialize an empty dictionary that stores the sampling rate chosen and the corresponding best estimators generated\n",
    "    all_best_models = {}\n",
    "    \n",
    "    for rate in rate_ls:\n",
    "        x_train_new,y_train_new = func_name(rate, x_train, y_train, \"Class\")\n",
    "        best_model = train_models(x_train_new,y_train_new,models,split)\n",
    "        all_best_models[rate] = best_model\n",
    "    \n",
    "    return all_best_models, x_train,y_train,x_test, y_test"
   ]
  },
  {
   "cell_type": "markdown",
   "metadata": {},
   "source": [
    "## 4. Modeling"
   ]
  },
  {
   "cell_type": "markdown",
   "metadata": {},
   "source": [
    "##### Resampling rates"
   ]
  },
  {
   "cell_type": "code",
   "execution_count": 29,
   "metadata": {},
   "outputs": [],
   "source": [
    "# list of sampling rates we want to try:\n",
    "under_sample_rate = [0.002, 0.0015]\n",
    "over_sample_rate = [2,5,10]\n",
    "hybrid_sample_rate = [0.5, 0.8, 1]"
   ]
  },
  {
   "cell_type": "markdown",
   "metadata": {},
   "source": [
    "##### All models we want to try out"
   ]
  },
  {
   "cell_type": "code",
   "execution_count": 24,
   "metadata": {},
   "outputs": [],
   "source": [
    "# models: a dictionary that stores the possible parameter sets we want to try out for each classifier\n",
    "\n",
    "models = {LogisticRegression:{'C':[10**i for i in range(-5,5)],\n",
    "                              'penalty':['l1','l2'],\n",
    "                             'verbose': [1]},\n",
    "          \n",
    "          RandomForestClassifier: {'criterion':['entropy'],\n",
    "                                   'bootstrap': [True],\n",
    "                                   'n_estimators': [300, 500, 1000],\n",
    "                                    'max_features': ['auto', 'sqrt'],\n",
    "                                    'max_depth': [10, 20, 30],\n",
    "                                    'min_samples_split': [2, 10, 100],\n",
    "                                    'min_samples_leaf': [1, 5, 10],\n",
    "                                  'verbose': [1]},\n",
    "          \n",
    "          XGBClassifier:{'eta': [0.01, 0.1],\n",
    "                         'max_depth': range(3,10,2),\n",
    "                         'min_child_weight': range(1,6,2),\n",
    "                         'gamma': [0, 1],\n",
    "                         'subsample': [i/10.0 for i in range(6,10)],\n",
    "                         'colsample_bytree': [i/10.0 for i in range(6,10)],\n",
    "                         'n_estimators': [300, 500, 1000],\n",
    "                        'verbose': [1]}\n",
    "         }\n"
   ]
  },
  {
   "cell_type": "code",
   "execution_count": 27,
   "metadata": {},
   "outputs": [],
   "source": [
    "models = {RandomForestClassifier: {'criterion':['entropy'],\n",
    "                                   'bootstrap': [False],\n",
    "                                   'n_estimators': [300]}}"
   ]
  },
  {
   "cell_type": "markdown",
   "metadata": {},
   "source": [
    "##### Model names"
   ]
  },
  {
   "cell_type": "code",
   "execution_count": 26,
   "metadata": {},
   "outputs": [
    {
     "data": {
      "text/plain": [
       "['Logistic Regression', 'Random Forest Classifier', 'X G B Classifier']"
      ]
     },
     "execution_count": 26,
     "metadata": {},
     "output_type": "execute_result"
    }
   ],
   "source": [
    "# model_names: store all the names of the models\n",
    "\n",
    "model_names = []\n",
    "for model in models:\n",
    "    model_names.append(\" \".join(re.findall('[A-Z][a-z]*', str(model).split(\".\")[-1].split(\"'\")[0])))\n",
    "\n",
    "model_names"
   ]
  },
  {
   "cell_type": "markdown",
   "metadata": {},
   "source": [
    "### Training"
   ]
  },
  {
   "cell_type": "markdown",
   "metadata": {},
   "source": [
    "Under-sampling"
   ]
  },
  {
   "cell_type": "code",
   "execution_count": null,
   "metadata": {
    "scrolled": true
   },
   "outputs": [],
   "source": [
    "under_all_best_models, x_train,y_train,x_test, y_test = try_models(under_sample, models,split = 3,rate_ls = under_sample_rate)\n",
    "k = under_all_best_models\n",
    "\n",
    "# print out the modeling results\n",
    "for rate in k.keys():\n",
    "    print(\"sampling rate =    \" + str(rate) + \": \\n\")\n",
    "    for name in k[rate].keys():\n",
    "        print(\"best estimator:    \" + str(name) + \"\\n\")\n",
    "    for combo in k[rate].values():\n",
    "        print(\"best parameters:   \" + str(combo[0]))\n",
    "        print(\"f_1 score:         \" + str(combo[1]))\n",
    "    print(\"-----------------------------------------------------------------------------------\")"
   ]
  },
  {
   "cell_type": "markdown",
   "metadata": {},
   "source": [
    "Over-sampling"
   ]
  },
  {
   "cell_type": "code",
   "execution_count": 30,
   "metadata": {},
   "outputs": [
    {
     "name": "stdout",
     "output_type": "stream",
     "text": [
      "sampling rate =    2: \n",
      "\n",
      "best estimator:    Random Forest Classifier\n",
      "\n",
      "best parameters:   {'bootstrap': False, 'criterion': 'entropy', 'n_estimators': 300}\n",
      "f_1 score:         0.8812546051910318\n",
      "-----------------------------------------------------------------------------------\n",
      "sampling rate =    5: \n",
      "\n",
      "best estimator:    Random Forest Classifier\n",
      "\n",
      "best parameters:   {'bootstrap': False, 'criterion': 'entropy', 'n_estimators': 300}\n",
      "f_1 score:         0.7985093840504525\n",
      "-----------------------------------------------------------------------------------\n",
      "sampling rate =    10: \n",
      "\n",
      "best estimator:    Random Forest Classifier\n",
      "\n",
      "best parameters:   {'bootstrap': False, 'criterion': 'entropy', 'n_estimators': 300}\n",
      "f_1 score:         0.34071944829276196\n",
      "-----------------------------------------------------------------------------------\n"
     ]
    }
   ],
   "source": [
    "over_all_best_models, x_train,y_train,x_test, y_test = try_models(over_sample, models,split = 3,rate_ls = over_sample_rate)\n",
    "k = over_all_best_models\n",
    "\n",
    "# print out the modeling results\n",
    "for rate in k.keys():\n",
    "    print(\"sampling rate =    \" + str(rate) + \": \\n\")\n",
    "    for name in k[rate].keys():\n",
    "        print(\"best estimator:    \" + str(name) + \"\\n\")\n",
    "    for combo in k[rate].values():\n",
    "        print(\"best parameters:   \" + str(combo[0]))\n",
    "        print(\"f_1 score:         \" + str(combo[1]))\n",
    "    print(\"-----------------------------------------------------------------------------------\")"
   ]
  },
  {
   "cell_type": "markdown",
   "metadata": {},
   "source": [
    "Hybrid-sampling"
   ]
  },
  {
   "cell_type": "code",
   "execution_count": null,
   "metadata": {},
   "outputs": [],
   "source": [
    "hybrid_all_best_models, x_train,y_train,x_test, y_test = try_models(hybrid_sample, models,split = 3,rate_ls = hybrid_sample_rate)\n",
    "k = hybrid_all_best_models\n",
    "\n",
    "# print out the modeling results\n",
    "for rate in k.keys():\n",
    "    print(\"sampling rate =    \" + str(rate) + \": \\n\")\n",
    "    for name in k[rate].keys():\n",
    "        print(\"best estimator:    \" + str(name) + \"\\n\")\n",
    "    for combo in k[rate].values():\n",
    "        print(\"best parameters:   \" + str(combo[0]))\n",
    "        print(\"f_1 score:         \" + str(combo[1]))\n",
    "    print(\"-----------------------------------------------------------------------------------\")"
   ]
  },
  {
   "cell_type": "markdown",
   "metadata": {},
   "source": [
    "### Model Comparison"
   ]
  },
  {
   "cell_type": "code",
   "execution_count": 48,
   "metadata": {},
   "outputs": [],
   "source": [
    "# the chosen best estimator: a classifier object\n",
    "best_classifier =  RandomForestClassifier(**{'bootstrap': False, 'criterion': 'entropy', 'n_estimators': 300})"
   ]
  },
  {
   "cell_type": "markdown",
   "metadata": {},
   "source": [
    "#### Feature Importance"
   ]
  },
  {
   "cell_type": "code",
   "execution_count": null,
   "metadata": {},
   "outputs": [],
   "source": [
    "## combine all training and validation data to retrain:\n",
    "X_train = pd.concat([x_train, x_val])\n",
    "Y_train = pd.concat([y_train, y_val])\n",
    "\n",
    "best_classifier.fit(X_train, Y_train)"
   ]
  },
  {
   "cell_type": "code",
   "execution_count": 59,
   "metadata": {},
   "outputs": [
    {
     "name": "stdout",
     "output_type": "stream",
     "text": [
      "f1 score for testing data is: 0.828\n",
      "precision score for testing data is 0.97\n",
      "recall score for testing data is 0.722\n",
      "auc score for testing data is 0.861\n"
     ]
    }
   ],
   "source": [
    "# predict training data\n",
    "y_pred = best_classifier.predict(x_test)\n",
    "test_f = f1_score(y_test, y_pred)\n",
    "print(\"f1 score for testing data is: \" + str(round(test_f,3)))\n",
    "precision = precision_score(y_test, y_pred)\n",
    "print(\"precision score for testing data is \" + str(round(precision,3)))\n",
    "recall = recall_score(y_test, y_pred)\n",
    "print(\"recall score for testing data is \" + str(round(recall,3)))\n",
    "roc_auc = roc_auc_score(y_test, y_pred)\n",
    "print(\"auc score for testing data is \" + str(round(roc_auc,3)))"
   ]
  },
  {
   "cell_type": "code",
   "execution_count": 62,
   "metadata": {},
   "outputs": [
    {
     "data": {
      "image/png": "[encoded data removed]",
      "text/plain": [
       "<Figure size 432x288 with 1 Axes>"
      ]
     },
     "metadata": {
      "needs_background": "light"
     },
     "output_type": "display_data"
    }
   ],
   "source": [
    "# plot feature importance bar plot\n",
    "%matplotlib inline\n",
    "features_list = X_train.columns\n",
    "importances = best_classifier.feature_importances_\n",
    "\n",
    "temp = sorted(dict(zip(importances, X_train.columns)).items())[::-1]\n",
    "sorted_features_names = []\n",
    "sorted_features_vals = []\n",
    "for val, name in temp:\n",
    "    sorted_features_names.append(name)\n",
    "    sorted_features_vals.append(val)\n",
    "    \n",
    "plt.bar(range(30), sorted_features_vals, align = 'center')\n",
    "plt.xticks(range(30), sorted_features_names, rotation = 90)\n",
    "plt.show()"
   ]
  },
  {
   "cell_type": "markdown",
   "metadata": {},
   "source": [
    "#### Confusion Matrix"
   ]
  },
  {
   "cell_type": "code",
   "execution_count": 70,
   "metadata": {},
   "outputs": [],
   "source": [
    "def plot_confusion_matrix(cm, target_names, model_name, cmap=None, normalize=True):\n",
    "    \"\"\"\n",
    "    given a sklearn confusion matrix (cm), make a nice plot\n",
    "\n",
    "    Arguments\n",
    "    ---------\n",
    "    cm:           confusion matrix from sklearn.metrics.confusion_matrix\n",
    "\n",
    "    target_names: given classification classes such as [0, 1, 2]\n",
    "                  the class names, for example: ['high', 'medium', 'low']\n",
    "\n",
    "    cmap:         the gradient of the values displayed from matplotlib.pyplot.cm\n",
    "                  see http://matplotlib.org/examples/color/colormaps_reference.html\n",
    "                  plt.get_cmap('jet') or plt.cm.Blues\n",
    "\n",
    "    normalize:    If False, plot the raw numbers\n",
    "                  If True, plot the proportions\n",
    "\n",
    "    Usage\n",
    "    -----\n",
    "    plot_confusion_matrix(cm           = cm,                  # confusion matrix created by\n",
    "                                                              # sklearn.metrics.confusion_matrix\n",
    "                          normalize    = True,                # show proportions\n",
    "                          target_names = y_labels_vals,       # list of names of the classes\n",
    "                          title        = best_estimator_name) # title of graph\n",
    "\n",
    "    Citiation\n",
    "    ---------\n",
    "    http://scikit-learn.org/stable/auto_examples/model_selection/plot_confusion_matrix.html\n",
    "\n",
    "    \"\"\"\n",
    "    import itertools\n",
    "    # the text to display at the top of the matrix\n",
    "    title = 'Confusion matrix of ' + model_name\n",
    "\n",
    "    accuracy = np.trace(cm) / float(np.sum(cm))\n",
    "    misclass = 1 - accuracy\n",
    "\n",
    "    if cmap is None:\n",
    "        cmap = plt.get_cmap('Blues')\n",
    "\n",
    "    plt.figure(figsize=(5, 5))\n",
    "    plt.imshow(cm, interpolation='nearest', cmap=cmap)\n",
    "    plt.title(title)\n",
    "    plt.colorbar()\n",
    "\n",
    "    if target_names is not None:\n",
    "        tick_marks = np.arange(len(target_names))\n",
    "        plt.xticks(tick_marks, target_names, rotation=45)\n",
    "        plt.yticks(tick_marks, target_names)\n",
    "\n",
    "    if normalize:\n",
    "        cm = cm.astype('float') / cm.sum(axis=1)[:, np.newaxis]\n",
    "\n",
    "\n",
    "    thresh = cm.max() / 1.5 if normalize else cm.max() / 2\n",
    "    for i, j in itertools.product(range(cm.shape[0]), range(cm.shape[1])):\n",
    "        if normalize:\n",
    "            plt.text(j, i, \"{:0.4f}\".format(cm[i, j]),\n",
    "                     horizontalalignment=\"center\",\n",
    "                     color=\"white\" if cm[i, j] > thresh else \"black\")\n",
    "        else:\n",
    "            plt.text(j, i, \"{:,}\".format(cm[i, j]),\n",
    "                     horizontalalignment=\"center\",\n",
    "                     color=\"white\" if cm[i, j] > thresh else \"black\")\n",
    "\n",
    "\n",
    "    plt.tight_layout()\n",
    "    plt.ylabel('True label')\n",
    "    plt.xlabel('Predicted label\\naccuracy={:0.4f}; misclass={:0.4f}'.format(accuracy, misclass))\n",
    "    plt.show()"
   ]
  },
  {
   "cell_type": "code",
   "execution_count": 71,
   "metadata": {},
   "outputs": [
    {
     "data": {
      "image/png": "[encoded data removed]",
      "text/plain": [
       "<Figure size 360x360 with 2 Axes>"
      ]
     },
     "metadata": {
      "needs_background": "light"
     },
     "output_type": "display_data"
    }
   ],
   "source": [
    "# plot confusion matrix\n",
    "cm = confusion_matrix(y_test, y_pred)\n",
    "target_names = ['Fraudulent', 'Not Fraudulent']\n",
    "plot_confusion_matrix(cm, target_names, 'Random Forest', cmap=None, normalize=True)"
   ]
  },
  {
   "cell_type": "code",
   "execution_count": 77,
   "metadata": {},
   "outputs": [
    {
     "data": {
      "text/plain": [
       "(90, 56656)"
      ]
     },
     "execution_count": 77,
     "metadata": {},
     "output_type": "execute_result"
    }
   ],
   "source": [
    "np.sum(y_test == 1), np.sum(y_test == 0)"
   ]
  },
  {
   "cell_type": "code",
   "execution_count": null,
   "metadata": {},
   "outputs": [],
   "source": []
  }
 ],
 "metadata": {
  "kernelspec": {
   "display_name": "Python 3",
   "language": "python",
   "name": "python3"
  },
  "language_info": {
   "codemirror_mode": {
    "name": "ipython",
    "version": 3
   },
   "file_extension": ".py",
   "mimetype": "text/x-python",
   "name": "python",
   "nbconvert_exporter": "python",
   "pygments_lexer": "ipython3",
   "version": "3.6.6"
  }
 },
 "nbformat": 4,
 "nbformat_minor": 2
}
